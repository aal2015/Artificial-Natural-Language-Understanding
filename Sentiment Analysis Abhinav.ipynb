{
 "cells": [
  {
   "cell_type": "markdown",
   "id": "90b9ba68-fad5-4b14-99d5-efc263369e50",
   "metadata": {},
   "source": [
    "# Checking sentiment of my product"
   ]
  },
  {
   "cell_type": "markdown",
   "id": "f33e11b2-d24a-4c8a-98d5-e2392ed9830e",
   "metadata": {},
   "source": [
    "<b>Name:</b> Abhinav Lugun <b>Student Id:</b> st122322"
   ]
  },
  {
   "cell_type": "markdown",
   "id": "f07f7f58-46c2-4d46-9b8a-07ec9a2805dc",
   "metadata": {},
   "source": [
    "## Dataset"
   ]
  },
  {
   "cell_type": "markdown",
   "id": "8cb29d1f-75b1-44ab-bdb8-c8cfaede64d6",
   "metadata": {},
   "source": [
    "'Standard Sentiment Treebank' dataset was used for training a model for sentiment analysis. It was loaded through torchtext package. After dataset has a label of 0 and 1 corresponding to 'negative' and 'positive' respectively."
   ]
  },
  {
   "cell_type": "code",
   "execution_count": 1,
   "id": "83518a80-d615-48b6-9987-3e2d2c730f8e",
   "metadata": {},
   "outputs": [
    {
     "name": "stdout",
     "output_type": "stream",
     "text": [
      "cuda\n"
     ]
    }
   ],
   "source": [
    "import torch, torchdata, torchtext\n",
    "from torch import nn\n",
    "\n",
    "import time\n",
    "\n",
    "#1. puffer - it's outdated....\n",
    "#2. spend some money - 300 baht get collab pro\n",
    "\n",
    "device = torch.device('cuda' if torch.cuda.is_available() else 'cpu')\n",
    "print(device)\n",
    "\n",
    "#reproducibility \n",
    "SEED = 1234\n",
    "torch.manual_seed(SEED)\n",
    "torch.backends.cudnn.deterministic = True"
   ]
  },
  {
   "cell_type": "code",
   "execution_count": 2,
   "id": "bb3705bd-0aef-48bb-a4e6-8c7d4fa47310",
   "metadata": {},
   "outputs": [
    {
     "data": {
      "text/plain": [
       "'1.13.1'"
      ]
     },
     "execution_count": 2,
     "metadata": {},
     "output_type": "execute_result"
    }
   ],
   "source": [
    "torch.__version__"
   ]
  },
  {
   "cell_type": "code",
   "execution_count": 3,
   "id": "5094aa0d-fb9e-493a-bd64-3fbcf056cf81",
   "metadata": {},
   "outputs": [
    {
     "data": {
      "text/plain": [
       "'0.14.1'"
      ]
     },
     "execution_count": 3,
     "metadata": {},
     "output_type": "execute_result"
    }
   ],
   "source": [
    "torchtext.__version__"
   ]
  },
  {
   "cell_type": "code",
   "execution_count": 4,
   "id": "617013f4-e09b-4d9f-871c-0464c7bcb6e2",
   "metadata": {},
   "outputs": [
    {
     "data": {
      "text/plain": [
       "'0.5.1'"
      ]
     },
     "execution_count": 4,
     "metadata": {},
     "output_type": "execute_result"
    }
   ],
   "source": [
    "torchdata.__version__"
   ]
  },
  {
   "cell_type": "code",
   "execution_count": 5,
   "id": "4aeb9437-fee5-4a48-b1cc-6de7dd656bf1",
   "metadata": {},
   "outputs": [
    {
     "data": {
      "text/plain": [
       "'NVIDIA GeForce RTX 3060 Laptop GPU'"
      ]
     },
     "execution_count": 5,
     "metadata": {},
     "output_type": "execute_result"
    }
   ],
   "source": [
    "torch.cuda.get_device_name(0)"
   ]
  },
  {
   "cell_type": "markdown",
   "id": "6d456c72-563d-497d-a5d6-502ba88a3f4b",
   "metadata": {},
   "source": [
    "# 1) Load Dataset"
   ]
  },
  {
   "cell_type": "code",
   "execution_count": 6,
   "id": "7e6f2f07-7150-4d1c-ac95-96f78041849f",
   "metadata": {},
   "outputs": [],
   "source": [
    "from torchtext.datasets import SST2\n",
    "\n",
    "train = SST2(split='train')\n",
    "test = SST2(split='dev')"
   ]
  },
  {
   "cell_type": "code",
   "execution_count": 7,
   "id": "7b02ad48-f5da-4466-b078-11805cbdbdf4",
   "metadata": {},
   "outputs": [
    {
     "data": {
      "text/plain": [
       "ShardingFilterIterDataPipe"
      ]
     },
     "execution_count": 7,
     "metadata": {},
     "output_type": "execute_result"
    }
   ],
   "source": [
    "train"
   ]
  },
  {
   "cell_type": "markdown",
   "id": "05777c61-e7bb-4690-98bd-f4b8b8d3e8e4",
   "metadata": {},
   "source": [
    "# 2) EDA - exploratory data analysis"
   ]
  },
  {
   "cell_type": "code",
   "execution_count": 8,
   "id": "d22b6c84-2bf3-4584-8799-e08b78dd97a4",
   "metadata": {},
   "outputs": [
    {
     "data": {
      "text/plain": [
       "('hide new secretions from the parental units', 0)"
      ]
     },
     "execution_count": 8,
     "metadata": {},
     "output_type": "execute_result"
    }
   ],
   "source": [
    "next(iter(train))"
   ]
  },
  {
   "cell_type": "code",
   "execution_count": 9,
   "id": "1089d04f-a1de-4c54-8e0b-f37280f058e4",
   "metadata": {},
   "outputs": [
    {
     "data": {
      "text/plain": [
       "('in memory', 1)"
      ]
     },
     "execution_count": 9,
     "metadata": {},
     "output_type": "execute_result"
    }
   ],
   "source": [
    "list(iter(train))[100]"
   ]
  },
  {
   "cell_type": "code",
   "execution_count": 10,
   "id": "b34ac4c0-8691-46df-acff-26e94b9d9b82",
   "metadata": {},
   "outputs": [
    {
     "data": {
      "text/plain": [
       "{0, 1}"
      ]
     },
     "execution_count": 10,
     "metadata": {},
     "output_type": "execute_result"
    }
   ],
   "source": [
    "set([y for x, y in list(iter(train))])"
   ]
  },
  {
   "cell_type": "code",
   "execution_count": 11,
   "id": "7a8d5332-6c4e-4800-ba93-dd84909f48d1",
   "metadata": {},
   "outputs": [
    {
     "data": {
      "text/plain": [
       "67349"
      ]
     },
     "execution_count": 11,
     "metadata": {},
     "output_type": "execute_result"
    }
   ],
   "source": [
    "train_size = len(list(iter(train)))\n",
    "train_size"
   ]
  },
  {
   "cell_type": "code",
   "execution_count": 12,
   "id": "a9d28b1d-a656-4b79-902b-42fa80b7fb9d",
   "metadata": {},
   "outputs": [
    {
     "data": {
      "text/plain": [
       "ShardingFilterIterDataPipe"
      ]
     },
     "execution_count": 12,
     "metadata": {},
     "output_type": "execute_result"
    }
   ],
   "source": [
    "train"
   ]
  },
  {
   "cell_type": "code",
   "execution_count": 13,
   "id": "080400a7-4d9d-49d5-95b1-aab621b8c186",
   "metadata": {},
   "outputs": [],
   "source": [
    "train, val = train.random_split(total_length=train_size, \n",
    "                                            weights = {\"train\": 0.99, \n",
    "                                                       \"val\": 0.01},\n",
    "                                            seed = SEED)"
   ]
  },
  {
   "cell_type": "code",
   "execution_count": 14,
   "id": "89931178-6228-4b71-8503-ef84a07d27fc",
   "metadata": {},
   "outputs": [],
   "source": [
    "train_size = len(list(iter(train)))\n",
    "val_size   = len(list(iter(val)))\n",
    "test_size  = len(list(iter(test)))"
   ]
  },
  {
   "cell_type": "code",
   "execution_count": 15,
   "id": "4a37bae1-5e22-4b6a-bc5b-6d1c77509acd",
   "metadata": {},
   "outputs": [
    {
     "data": {
      "text/plain": [
       "(66675, 674, 872)"
      ]
     },
     "execution_count": 15,
     "metadata": {},
     "output_type": "execute_result"
    }
   ],
   "source": [
    "train_size, val_size, test_size"
   ]
  },
  {
   "cell_type": "code",
   "execution_count": 16,
   "id": "da60a4e7-45ba-43f7-a2fe-47caef328ae1",
   "metadata": {},
   "outputs": [
    {
     "data": {
      "text/plain": [
       "{0, 1}"
      ]
     },
     "execution_count": 16,
     "metadata": {},
     "output_type": "execute_result"
    }
   ],
   "source": [
    "set([y for x, y in list(iter(train))])"
   ]
  },
  {
   "cell_type": "markdown",
   "id": "a45997b8-c306-435f-bb55-a376cde9abf6",
   "metadata": {},
   "source": [
    "# 3) Preprocessing"
   ]
  },
  {
   "cell_type": "code",
   "execution_count": 17,
   "id": "26f035c4-217d-4ff0-959c-9576c7748fc3",
   "metadata": {},
   "outputs": [],
   "source": [
    "from torchtext.data.utils import get_tokenizer\n",
    "\n",
    "tokenizer = get_tokenizer('spacy', language='en_core_web_md')"
   ]
  },
  {
   "cell_type": "code",
   "execution_count": 18,
   "id": "eba99b8d-4f15-4f2d-ac36-86abc06ee1c6",
   "metadata": {},
   "outputs": [
    {
     "data": {
      "text/plain": [
       "('hide new secretions from the parental units', 0)"
      ]
     },
     "execution_count": 18,
     "metadata": {},
     "output_type": "execute_result"
    }
   ],
   "source": [
    "next(iter(train))"
   ]
  },
  {
   "cell_type": "code",
   "execution_count": 19,
   "id": "17280f69-045a-4cc1-8db8-b23ffa34d5e1",
   "metadata": {},
   "outputs": [],
   "source": [
    "from torchtext.vocab import build_vocab_from_iterator\n",
    "\n",
    "def yield_tokens(data_iter):  #data_iter, e.g., train\n",
    "    for text, _  in data_iter:\n",
    "        yield tokenizer(text)\n",
    "        \n",
    "vocab = build_vocab_from_iterator(yield_tokens(train), specials=['<unk>', '<pad>',\n",
    "                                                                 '<bos>', '<eos>'])"
   ]
  },
  {
   "cell_type": "code",
   "execution_count": 20,
   "id": "941acd06-43fe-4ff4-bc86-7b8486c376ba",
   "metadata": {},
   "outputs": [],
   "source": [
    "vocab.set_default_index(vocab[\"<unk>\"]) "
   ]
  },
  {
   "cell_type": "code",
   "execution_count": 21,
   "id": "b57c7631-4d81-4b55-91d3-330459813e4a",
   "metadata": {},
   "outputs": [
    {
     "data": {
      "text/plain": [
       "[0, 935, 42, 3491, 11, 27, 956, 2974, 9]"
      ]
     },
     "execution_count": 21,
     "metadata": {},
     "output_type": "execute_result"
    }
   ],
   "source": [
    "vocab(['Chaky', 'wants', 'his', 'student', 'to', 'be', 'number', '1', '.'])"
   ]
  },
  {
   "cell_type": "code",
   "execution_count": 22,
   "id": "c6bc703b-65be-4767-9868-87f510e67b34",
   "metadata": {},
   "outputs": [],
   "source": [
    "id2word = vocab.get_itos()"
   ]
  },
  {
   "cell_type": "code",
   "execution_count": 23,
   "id": "ad2a2468-0933-4e4e-aaaa-448cee4bcb27",
   "metadata": {},
   "outputs": [
    {
     "data": {
      "text/plain": [
       "'<unk>'"
      ]
     },
     "execution_count": 23,
     "metadata": {},
     "output_type": "execute_result"
    }
   ],
   "source": [
    "id2word[0]"
   ]
  },
  {
   "cell_type": "code",
   "execution_count": 24,
   "id": "e3ae375f-723b-43a8-b8a5-dd9325b1f193",
   "metadata": {},
   "outputs": [
    {
     "data": {
      "text/plain": [
       "[1, 2, 3]"
      ]
     },
     "execution_count": 24,
     "metadata": {},
     "output_type": "execute_result"
    }
   ],
   "source": [
    "vocab(['<pad>', '<bos>', '<eos>'])"
   ]
  },
  {
   "cell_type": "code",
   "execution_count": 25,
   "id": "6391bd60-0eaa-4a48-995a-83d45d7cd7bb",
   "metadata": {},
   "outputs": [
    {
     "data": {
      "text/plain": [
       "13882"
      ]
     },
     "execution_count": 25,
     "metadata": {},
     "output_type": "execute_result"
    }
   ],
   "source": [
    "len(vocab)"
   ]
  },
  {
   "cell_type": "markdown",
   "id": "9aa2ae77-bf7a-4b66-888d-2dbdfa0b6c88",
   "metadata": {},
   "source": [
    "# 4) FastText embedding"
   ]
  },
  {
   "cell_type": "code",
   "execution_count": 26,
   "id": "eb1feffa-f21e-496c-9564-03f8703780b8",
   "metadata": {},
   "outputs": [],
   "source": [
    "from torchtext.vocab import FastText\n",
    "fast_vectors = FastText(language='simple')"
   ]
  },
  {
   "cell_type": "code",
   "execution_count": 27,
   "id": "43660b78-330a-4319-b6f4-9e3f6cd50197",
   "metadata": {},
   "outputs": [],
   "source": [
    "fast_embedding = fast_vectors.get_vecs_by_tokens(vocab.get_itos()).to(device)"
   ]
  },
  {
   "cell_type": "code",
   "execution_count": 28,
   "id": "97793cfd-1dd8-43ba-b90f-32d61362407d",
   "metadata": {},
   "outputs": [
    {
     "data": {
      "text/plain": [
       "torch.Size([13882, 300])"
      ]
     },
     "execution_count": 28,
     "metadata": {},
     "output_type": "execute_result"
    }
   ],
   "source": [
    "fast_embedding.shape"
   ]
  },
  {
   "cell_type": "code",
   "execution_count": 29,
   "id": "cb2ec12a-43c1-43c4-807b-be571400186f",
   "metadata": {},
   "outputs": [
    {
     "data": {
      "text/plain": [
       "tensor([-0.0129, -0.3870,  0.4670,  0.0256,  0.1554, -0.0399, -0.2793,  0.0717,\n",
       "        -0.4365,  0.2239], device='cuda:0')"
      ]
     },
     "execution_count": 29,
     "metadata": {},
     "output_type": "execute_result"
    }
   ],
   "source": [
    "fast_embedding[100][:10]"
   ]
  },
  {
   "cell_type": "markdown",
   "id": "1962276d-2c12-479b-b51f-387c61878209",
   "metadata": {},
   "source": [
    "# 5) Preparing dataloader"
   ]
  },
  {
   "cell_type": "code",
   "execution_count": 30,
   "id": "5ed8f4c1-9bcd-4a84-88b5-2305a022046f",
   "metadata": {},
   "outputs": [],
   "source": [
    "text_pipeline  = lambda x: vocab(tokenizer(x))\n",
    "label_pipeline = lambda x: int(x)"
   ]
  },
  {
   "cell_type": "code",
   "execution_count": 31,
   "id": "bc9f0d30-f5b8-4fad-bbfd-33cb14b00b01",
   "metadata": {},
   "outputs": [],
   "source": [
    "from torch.utils.data import DataLoader\n",
    "from torch.nn.utils.rnn import pad_sequence #making each batch same length\n",
    "\n",
    "pad_ix = vocab['<pad>']\n",
    "\n",
    "#this function gonna be called by DataLoader\n",
    "def collate_batch(batch):\n",
    "    label_list, text_list, length_list = [], [], []\n",
    "    for (_text, _label) in batch:\n",
    "        label_list.append(label_pipeline(_label))  #[3, 1, 0, 2, ]\n",
    "        processed_text = torch.tensor(text_pipeline(_text), dtype=torch.int64) #[0, 44, 21, 2]\n",
    "        text_list.append(processed_text)\n",
    "        length_list.append(processed_text.size(0)) #for padding\n",
    "        \n",
    "    return torch.tensor(label_list, dtype=torch.int64), \\\n",
    "        pad_sequence(text_list, padding_value=pad_ix, batch_first=True), \\\n",
    "        torch.tensor(length_list, dtype=torch.int64)"
   ]
  },
  {
   "cell_type": "code",
   "execution_count": 32,
   "id": "03d286b4-7dc9-4fb4-a667-a62b382c760c",
   "metadata": {},
   "outputs": [],
   "source": [
    "batch_size = 64\n",
    "\n",
    "train_loader = DataLoader(train, batch_size = batch_size,\n",
    "                          shuffle=True, collate_fn=collate_batch)\n",
    "\n",
    "val_loader   = DataLoader(val, batch_size = batch_size,\n",
    "                          shuffle=True, collate_fn=collate_batch)\n",
    "\n",
    "test_loader  = DataLoader(test, batch_size = batch_size,\n",
    "                          shuffle=True, collate_fn=collate_batch)"
   ]
  },
  {
   "cell_type": "code",
   "execution_count": 33,
   "id": "35afd206-82be-4240-b9b0-d811ba9bc299",
   "metadata": {},
   "outputs": [
    {
     "name": "stdout",
     "output_type": "stream",
     "text": [
      "Label shape: torch.Size([64])\n",
      "Text shape: torch.Size([64, 31])\n",
      "Length shape: torch.Size([64])\n"
     ]
    }
   ],
   "source": [
    "for label, text, length in train_loader:\n",
    "    print(\"Label shape:\", label.shape)\n",
    "    print(\"Text shape:\", text.shape)\n",
    "    print(\"Length shape:\", length.shape)\n",
    "    break"
   ]
  },
  {
   "cell_type": "code",
   "execution_count": 34,
   "id": "31e5d279-6393-4a69-b9c3-a9617fcad0e8",
   "metadata": {},
   "outputs": [],
   "source": [
    "class LSTM(nn.Module):\n",
    "    \n",
    "    def __init__(self, input_dim, emb_dim, hid_dim, output_dim, num_layers, bidirectional, \n",
    "                 dropout):\n",
    "        super().__init__()\n",
    "        #input dim = how many vocab you have\n",
    "        #emb dim = 300 --> we use fasttext\n",
    "        #padding_idx tells this lookup table to ignore, and just randomize....\n",
    "        #<unk>, <bos>, <eos>\n",
    "        self.embedding_layer = nn.Embedding(input_dim, emb_dim, padding_idx=pad_ix)\n",
    "        self.lstm            = nn.LSTM(emb_dim,\n",
    "                                       hid_dim,\n",
    "                                       num_layers = num_layers,\n",
    "                                       bidirectional = bidirectional,\n",
    "                                       dropout = dropout,  #dropout is applied between layers....\n",
    "                                       batch_first=True)\n",
    "        \n",
    "        self.fc              = nn.Linear(hid_dim * 2, output_dim)\n",
    "        \n",
    "    def forward(self, x, lengths):\n",
    "        #x: [batch size, seq len]\n",
    "        \n",
    "        embedded_x = self.embedding_layer(x)\n",
    "        #x: [batch size, seq len, emb dim]\n",
    "        \n",
    "        #pack this embedded_x in such a way that RNN knows to ignore padding....\n",
    "        #without batch_first = True; things will become [seq len, batch size, emb dim]\n",
    "        pack_embedded = nn.utils.rnn.pack_padded_sequence(embedded_x, lengths.to('cpu'),\n",
    "                                                          enforce_sorted=False,\n",
    "                                                          batch_first = True\n",
    "                                                          )\n",
    "        \n",
    "        #packed_outputs is basically all hidden states\n",
    "        #h is the last hidden state\n",
    "        #c is the last cell state\n",
    "        packed_outputs, (h, _) = self.lstm(pack_embedded)\n",
    "        \n",
    "        #h: [num_layers * num_directions, batch_size, hidden dim]\n",
    "        \n",
    "        #it happens that because packed_outputs is all hidden states....some hidden states near the end is\n",
    "        #hidden state for padding, pytorch guys help you\n",
    "        #by using this pad_packed_sequence, then all the hidden states will only be not padding....\n",
    "        output, output_lengths = nn.utils.rnn.pad_packed_sequence(packed_outputs, batch_first = True)\n",
    "        #output: [batch size, seq len, direction * hidden sim]\n",
    "        \n",
    "        #last hidden state - concat last forward and backward states\n",
    "        last_hidden_state = torch.cat((h[-1, :, :], h[-2, :, :]), dim = 1)\n",
    "        #last_hidden_state: [batch_size, hidden_dim * 2]\n",
    "        \n",
    "        #for sentiment analysis.....what should i sent to my linear layer...\n",
    "        return self.fc(last_hidden_state)  #[batch_size, output_dim]==> [batch_size, 4]\n",
    "        "
   ]
  },
  {
   "cell_type": "markdown",
   "id": "bfc842f6-3fbe-4788-a6d9-26824492f969",
   "metadata": {},
   "source": [
    "# 6) Training"
   ]
  },
  {
   "cell_type": "code",
   "execution_count": 35,
   "id": "6dca4750-1522-4225-a6b0-69c7e38a003e",
   "metadata": {},
   "outputs": [],
   "source": [
    "#explicitly initialize weights for better learning\n",
    "def initialize_weights(m):\n",
    "    if isinstance(m, nn.Linear):\n",
    "        nn.init.xavier_normal_(m.weight)\n",
    "        nn.init.zeros_(m.bias)\n",
    "    elif isinstance(m, nn.LSTM):\n",
    "        for name, param in m.named_parameters():\n",
    "            if 'bias' in name:\n",
    "                nn.init.zeros_(param)\n",
    "            elif 'weight' in name:\n",
    "                nn.init.orthogonal_(param)"
   ]
  },
  {
   "cell_type": "code",
   "execution_count": 36,
   "id": "9a12f4de-9a27-4f90-9aba-e08635aa272e",
   "metadata": {},
   "outputs": [],
   "source": [
    "input_dim  = len(vocab)\n",
    "hid_dim    = 256\n",
    "emb_dim    = 300\n",
    "output_dim = 2 # two classes\n",
    "\n",
    "#for biLSTM\n",
    "num_layers = 2\n",
    "bidirectional = True\n",
    "dropout = 0.5\n",
    "\n",
    "model = LSTM(input_dim, emb_dim, hid_dim, output_dim, num_layers, bidirectional, dropout).to(device)\n",
    "model.apply(initialize_weights)\n",
    "model.embedding_layer.weight.data = fast_embedding #**<------applied the fast text embedding as the initial weights"
   ]
  },
  {
   "cell_type": "code",
   "execution_count": 37,
   "id": "dd0ef208-9c53-4a1e-be4b-2dc0c6d14205",
   "metadata": {},
   "outputs": [
    {
     "name": "stdout",
     "output_type": "stream",
     "text": [
      "4164600\n",
      "307200\n",
      "262144\n",
      "  1024\n",
      "  1024\n",
      "307200\n",
      "262144\n",
      "  1024\n",
      "  1024\n",
      "524288\n",
      "262144\n",
      "  1024\n",
      "  1024\n",
      "524288\n",
      "262144\n",
      "  1024\n",
      "  1024\n",
      "  1024\n",
      "     2\n",
      "______\n",
      "6885370\n"
     ]
    }
   ],
   "source": [
    "# we can print the complexity by the number of parameters\n",
    "def count_parameters(model):\n",
    "    params = [p.numel() for p in model.parameters() if p.requires_grad]\n",
    "    for item in params:\n",
    "        print(f'{item:>6}')\n",
    "    print(f'______\\n{sum(params):>6}')\n",
    "    \n",
    "count_parameters(model)"
   ]
  },
  {
   "cell_type": "code",
   "execution_count": 38,
   "id": "98c2f9d8-3177-4b50-84c1-11a25b0daa6d",
   "metadata": {},
   "outputs": [],
   "source": [
    "import torch.optim as optim\n",
    "\n",
    "lr=1e-3\n",
    "\n",
    "#training hyperparameters\n",
    "optimizer = optim.Adam(model.parameters(), lr=lr)\n",
    "criterion = nn.CrossEntropyLoss() #combine softmax with cross entropy"
   ]
  },
  {
   "cell_type": "code",
   "execution_count": 39,
   "id": "4728e024-756a-4d96-8507-a516e8935f4a",
   "metadata": {},
   "outputs": [],
   "source": [
    "def accuracy(preds, y):\n",
    "    \n",
    "    predicted = torch.max(preds.data, 1)[1]\n",
    "    batch_corr = (predicted == y).sum()\n",
    "    acc = batch_corr / len(y)\n",
    "    \n",
    "    return acc"
   ]
  },
  {
   "cell_type": "code",
   "execution_count": 40,
   "id": "bdac88c8-5ebe-47cc-a0dd-090ce63a9a5f",
   "metadata": {},
   "outputs": [],
   "source": [
    "def train(model, loader, optimizer, criterion, loader_length):\n",
    "    epoch_loss = 0\n",
    "    epoch_acc = 0\n",
    "    model.train() #useful for batchnorm and dropout\n",
    "    \n",
    "    for i, (label, text, text_length) in enumerate(loader): \n",
    "        label = label.to(device) #(batch_size, )\n",
    "        text = text.to(device) #(batch_size, seq len)\n",
    "                \n",
    "        #predict\n",
    "        predictions = model(text, text_length).squeeze(1) #output by the fc is (batch_size, 1), thus need to remove this 1\n",
    "        \n",
    "        #calculate loss\n",
    "        loss = criterion(predictions, label)\n",
    "        acc  = accuracy(predictions, label)\n",
    "        \n",
    "        #backprop\n",
    "        optimizer.zero_grad()\n",
    "        loss.backward()\n",
    "        optimizer.step()\n",
    "        \n",
    "        epoch_loss += loss.item()\n",
    "        epoch_acc += acc.item()\n",
    "                        \n",
    "    return epoch_loss / loader_length, epoch_acc / loader_length"
   ]
  },
  {
   "cell_type": "code",
   "execution_count": 41,
   "id": "bbe73d0a-690c-492e-8b4c-9beb3a296b6c",
   "metadata": {},
   "outputs": [],
   "source": [
    "def evaluate(model, loader, criterion, loader_length):\n",
    "    epoch_loss = 0\n",
    "    epoch_acc = 0\n",
    "    model.eval()\n",
    "    \n",
    "    with torch.no_grad():\n",
    "        for i, (label, text, text_length) in enumerate(loader): \n",
    "            label = label.to(device) #(batch_size, )\n",
    "            text  = text.to(device)  #(seq len, batch_size)\n",
    "\n",
    "            predictions = model(text, text_length).squeeze(1) \n",
    "            \n",
    "            loss = criterion(predictions, label)\n",
    "            acc  = accuracy(predictions, label)\n",
    "\n",
    "            epoch_loss += loss.item()\n",
    "            epoch_acc += acc.item()\n",
    "        \n",
    "    return epoch_loss / loader_length, epoch_acc / loader_length"
   ]
  },
  {
   "cell_type": "markdown",
   "id": "0ccb8976-7f2e-40bb-8121-f99ae47a43a7",
   "metadata": {},
   "source": [
    "### Putting everything together"
   ]
  },
  {
   "cell_type": "code",
   "execution_count": 42,
   "id": "02f1afd4-1ae8-4ba4-a505-2aca06fa26c3",
   "metadata": {},
   "outputs": [],
   "source": [
    "train_loader_length = len(list(iter(train_loader)))\n",
    "val_loader_length   = len(list(iter(val_loader)))\n",
    "test_loader_length  = len(list(iter(test_loader)))"
   ]
  },
  {
   "cell_type": "code",
   "execution_count": 43,
   "id": "81d6b81e-63c4-42c7-a1a5-abc8984fe755",
   "metadata": {},
   "outputs": [],
   "source": [
    "def epoch_time(start_time, end_time):\n",
    "    elapsed_time = end_time - start_time\n",
    "    elapsed_mins = int(elapsed_time / 60)\n",
    "    elapsed_secs = int(elapsed_time - (elapsed_mins * 60))\n",
    "    return elapsed_mins, elapsed_secs"
   ]
  },
  {
   "cell_type": "code",
   "execution_count": 44,
   "id": "2d0580a0-96e3-4e70-b8a8-0bc5c951b106",
   "metadata": {},
   "outputs": [
    {
     "name": "stdout",
     "output_type": "stream",
     "text": [
      "Epoch: 01 | Time: 0m 30s\n",
      "\tTrain Loss: 0.308 | Train Acc: 86.87%\n",
      "\t Val. Loss: 0.146 |  Val. Acc: 95.20%\n",
      "Epoch: 02 | Time: 0m 30s\n",
      "\tTrain Loss: 0.154 | Train Acc: 94.18%\n",
      "\t Val. Loss: 0.065 |  Val. Acc: 97.87%\n",
      "Epoch: 03 | Time: 0m 34s\n",
      "\tTrain Loss: 0.102 | Train Acc: 96.20%\n",
      "\t Val. Loss: 0.073 |  Val. Acc: 97.18%\n",
      "Epoch: 04 | Time: 0m 33s\n",
      "\tTrain Loss: 0.074 | Train Acc: 97.20%\n",
      "\t Val. Loss: 0.024 |  Val. Acc: 99.86%\n",
      "Epoch: 05 | Time: 0m 32s\n",
      "\tTrain Loss: 0.057 | Train Acc: 97.74%\n",
      "\t Val. Loss: 0.032 |  Val. Acc: 98.30%\n",
      "Epoch: 06 | Time: 0m 30s\n",
      "\tTrain Loss: 0.043 | Train Acc: 98.23%\n",
      "\t Val. Loss: 0.041 |  Val. Acc: 98.72%\n",
      "Epoch: 07 | Time: 0m 31s\n",
      "\tTrain Loss: 0.036 | Train Acc: 98.60%\n",
      "\t Val. Loss: 0.008 |  Val. Acc: 100.00%\n",
      "Epoch: 08 | Time: 0m 31s\n",
      "\tTrain Loss: 0.029 | Train Acc: 98.86%\n",
      "\t Val. Loss: 0.022 |  Val. Acc: 99.01%\n",
      "Epoch: 09 | Time: 0m 32s\n",
      "\tTrain Loss: 0.023 | Train Acc: 99.14%\n",
      "\t Val. Loss: 0.006 |  Val. Acc: 99.86%\n",
      "Epoch: 10 | Time: 0m 32s\n",
      "\tTrain Loss: 0.018 | Train Acc: 99.30%\n",
      "\t Val. Loss: 0.005 |  Val. Acc: 99.86%\n"
     ]
    }
   ],
   "source": [
    "best_valid_loss = float('inf')\n",
    "num_epochs      = 10\n",
    "\n",
    "save_path = f'models/{model.__class__.__name__}.pt'\n",
    "\n",
    "train_losses = []\n",
    "train_accs = []\n",
    "valid_losses = []\n",
    "valid_accs = []\n",
    "\n",
    "for epoch in range(num_epochs):\n",
    "    \n",
    "    start_time = time.time()\n",
    "\n",
    "    train_loss, train_acc = train(model, train_loader, optimizer, criterion, train_loader_length)\n",
    "    valid_loss, valid_acc = evaluate(model, val_loader, criterion, val_loader_length)\n",
    "    \n",
    "    #for plotting\n",
    "    train_losses.append(train_loss)\n",
    "    train_accs.append(train_acc)\n",
    "    valid_losses.append(valid_loss)\n",
    "    valid_accs.append(valid_acc)\n",
    "    \n",
    "    end_time = time.time()\n",
    "    \n",
    "    epoch_mins, epoch_secs = epoch_time(start_time, end_time)\n",
    "    \n",
    "    if valid_loss < best_valid_loss:\n",
    "        best_valid_loss = valid_loss\n",
    "        torch.save(model.state_dict(), save_path)\n",
    "    \n",
    "    print(f'Epoch: {epoch+1:02} | Time: {epoch_mins}m {epoch_secs}s')\n",
    "    print(f'\\tTrain Loss: {train_loss:.3f} | Train Acc: {train_acc*100:.2f}%')\n",
    "    print(f'\\t Val. Loss: {valid_loss:.3f} |  Val. Acc: {valid_acc*100:.2f}%')"
   ]
  },
  {
   "cell_type": "markdown",
   "id": "dfc2dc1e-346b-445b-b853-e1d70d43d27f",
   "metadata": {},
   "source": [
    "### Plotting Loss and Accuracy "
   ]
  },
  {
   "cell_type": "code",
   "execution_count": 45,
   "id": "2e99782d-de36-4fc7-96e3-ea6769a1b91e",
   "metadata": {},
   "outputs": [
    {
     "data": {
      "text/plain": [
       "Text(0, 0.5, 'loss')"
      ]
     },
     "execution_count": 45,
     "metadata": {},
     "output_type": "execute_result"
    },
    {
     "data": {
      "image/png": "[encoded data removed]",
      "text/plain": [
       "<Figure size 1000x600 with 1 Axes>"
      ]
     },
     "metadata": {},
     "output_type": "display_data"
    }
   ],
   "source": [
    "import matplotlib.pyplot as plt\n",
    "fig = plt.figure(figsize=(10, 6))\n",
    "ax = fig.add_subplot(1, 1, 1)\n",
    "ax.plot(train_losses, label = 'train loss')\n",
    "ax.plot(valid_losses, label = 'valid loss')\n",
    "plt.legend()\n",
    "ax.set_xlabel('updates')\n",
    "ax.set_ylabel('loss')"
   ]
  },
  {
   "cell_type": "code",
   "execution_count": 46,
   "id": "97bedd3d-ae54-470d-8b53-4e41454c97df",
   "metadata": {},
   "outputs": [
    {
     "data": {
      "text/plain": [
       "Text(0, 0.5, 'acc')"
      ]
     },
     "execution_count": 46,
     "metadata": {},
     "output_type": "execute_result"
    },
    {
     "data": {
      "image/png": "[encoded data removed]",
      "text/plain": [
       "<Figure size 1000x600 with 1 Axes>"
      ]
     },
     "metadata": {},
     "output_type": "display_data"
    }
   ],
   "source": [
    "fig = plt.figure(figsize=(10, 6))\n",
    "ax = fig.add_subplot(1, 1, 1)\n",
    "ax.plot(train_accs, label = 'train acc')\n",
    "ax.plot(valid_accs, label = 'valid acc')\n",
    "plt.legend()\n",
    "ax.set_xlabel('updates')\n",
    "ax.set_ylabel('acc')"
   ]
  },
  {
   "cell_type": "code",
   "execution_count": 47,
   "id": "d2a7d816-6921-45de-97a2-41158dd64392",
   "metadata": {},
   "outputs": [
    {
     "name": "stdout",
     "output_type": "stream",
     "text": [
      "Test Loss: 1.502 | Test Acc: 79.62%\n"
     ]
    }
   ],
   "source": [
    "model.load_state_dict(torch.load(save_path))\n",
    "\n",
    "test_loss, test_acc = evaluate(model, test_loader, criterion, test_loader_length)\n",
    "\n",
    "print(f'Test Loss: {test_loss:.3f} | Test Acc: {test_acc*100:.2f}%')"
   ]
  },
  {
   "cell_type": "markdown",
   "id": "404b2a8f-a2af-4303-bd7b-3f74f401dd78",
   "metadata": {},
   "source": [
    "# 9) Test on Some Random News"
   ]
  },
  {
   "cell_type": "code",
   "execution_count": 48,
   "id": "b61537c9-1551-4064-97d2-70ebd7a13967",
   "metadata": {},
   "outputs": [
    {
     "data": {
      "text/plain": [
       "tensor([   0,   13,  567, 4399, 4701,    9,    0,    0, 1572,   13,  118,   75,\n",
       "         567,    9], device='cuda:0')"
      ]
     },
     "execution_count": 48,
     "metadata": {},
     "output_type": "execute_result"
    }
   ],
   "source": [
    "test_str = \"Google is now falling nonstop.  The price is really bad now.\"\n",
    "text = torch.tensor(text_pipeline(test_str)).to(device)\n",
    "text"
   ]
  },
  {
   "cell_type": "code",
   "execution_count": 49,
   "id": "692fe62b-677f-4ea0-a941-cb5f6932529a",
   "metadata": {},
   "outputs": [
    {
     "data": {
      "text/plain": [
       "[0, 13, 567, 4399, 4701, 9, 0, 0, 1572, 13, 118, 75, 567, 9]"
      ]
     },
     "execution_count": 49,
     "metadata": {},
     "output_type": "execute_result"
    }
   ],
   "source": [
    "text_list = [x.item() for x in text]\n",
    "text_list"
   ]
  },
  {
   "cell_type": "code",
   "execution_count": 50,
   "id": "4013ec07-2b4e-413f-acff-0748a68c4ea9",
   "metadata": {},
   "outputs": [],
   "source": [
    "text = text.reshape(1, -1)  #because batch_size is 1"
   ]
  },
  {
   "cell_type": "code",
   "execution_count": 51,
   "id": "38fa2009-e896-4003-9bbc-cca2ae62c394",
   "metadata": {},
   "outputs": [],
   "source": [
    "text_length = torch.tensor([text.size(1)]).to(dtype=torch.int64)"
   ]
  },
  {
   "cell_type": "code",
   "execution_count": 52,
   "id": "57bad2ba-4aa6-4503-a756-361a625513be",
   "metadata": {},
   "outputs": [
    {
     "data": {
      "text/plain": [
       "torch.Size([1, 14])"
      ]
     },
     "execution_count": 52,
     "metadata": {},
     "output_type": "execute_result"
    }
   ],
   "source": [
    "text.shape"
   ]
  },
  {
   "cell_type": "code",
   "execution_count": 53,
   "id": "0f40a734-e856-4c9c-b4c1-3f8ce6c66d97",
   "metadata": {},
   "outputs": [],
   "source": [
    "def predict(text, text_length):\n",
    "    with torch.no_grad():\n",
    "        output = model(text, text_length).squeeze(1)\n",
    "        predicted = torch.max(output.data, 1)[1]\n",
    "        return predicted"
   ]
  },
  {
   "cell_type": "code",
   "execution_count": 54,
   "id": "0fe2405d-b130-4844-86f1-0f7e355f1002",
   "metadata": {},
   "outputs": [
    {
     "data": {
      "text/plain": [
       "tensor([0], device='cuda:0')"
      ]
     },
     "execution_count": 54,
     "metadata": {},
     "output_type": "execute_result"
    }
   ],
   "source": [
    "predict(text, text_length)"
   ]
  },
  {
   "cell_type": "markdown",
   "id": "8595644c-09b4-4c85-b283-110272e7a7d6",
   "metadata": {
    "tags": []
   },
   "source": [
    "## 9.1)  Negative Negative Sentence Test"
   ]
  },
  {
   "cell_type": "markdown",
   "id": "7e35f017-c6e9-41b2-9257-a8a5dca56e14",
   "metadata": {},
   "source": [
    "#### Sentence 1"
   ]
  },
  {
   "cell_type": "code",
   "execution_count": 55,
   "id": "f454158b-9ed9-43f5-abe8-ce49a0eec243",
   "metadata": {},
   "outputs": [],
   "source": [
    "test_str = \"Movie was not bad.\"\n",
    "text = torch.tensor(text_pipeline(test_str)).to(device)"
   ]
  },
  {
   "cell_type": "code",
   "execution_count": 56,
   "id": "239eefe9-9b3d-48ed-a826-69485e87f995",
   "metadata": {},
   "outputs": [],
   "source": [
    "text_list = [x.item() for x in text]"
   ]
  },
  {
   "cell_type": "code",
   "execution_count": 57,
   "id": "415dd4a7-1a54-4401-9248-10fbf3a093f8",
   "metadata": {},
   "outputs": [],
   "source": [
    "text = text.reshape(1, -1)  #because batch_size is 1"
   ]
  },
  {
   "cell_type": "code",
   "execution_count": 58,
   "id": "ef35fff8-60e7-4ed6-9361-c93d1c288fff",
   "metadata": {},
   "outputs": [],
   "source": [
    "text_length = torch.tensor([text.size(1)]).to(dtype=torch.int64)"
   ]
  },
  {
   "cell_type": "code",
   "execution_count": 59,
   "id": "d4b1dc0c-66cf-4b4e-b147-45ad07afc0d7",
   "metadata": {},
   "outputs": [],
   "source": [
    "def predict(text, text_length):\n",
    "    with torch.no_grad():\n",
    "        output = model(text, text_length).squeeze(1)\n",
    "        predicted = torch.max(output.data, 1)[1]\n",
    "        return predicted"
   ]
  },
  {
   "cell_type": "code",
   "execution_count": 60,
   "id": "8d2ba03a-1cb5-405c-b01b-40af90a4144f",
   "metadata": {},
   "outputs": [
    {
     "data": {
      "text/plain": [
       "tensor([1], device='cuda:0')"
      ]
     },
     "execution_count": 60,
     "metadata": {},
     "output_type": "execute_result"
    }
   ],
   "source": [
    "predict(text, text_length)"
   ]
  },
  {
   "cell_type": "markdown",
   "id": "fc787672-92be-4645-96fd-0a69d3fb9b29",
   "metadata": {},
   "source": [
    "#### Sentence 2"
   ]
  },
  {
   "cell_type": "code",
   "execution_count": 61,
   "id": "9563aacd-6898-4edb-8609-36ca12e0961e",
   "metadata": {},
   "outputs": [],
   "source": [
    "test_str = \"I wasn't unhappy with my grade.\"\n",
    "text = torch.tensor(text_pipeline(test_str)).to(device)"
   ]
  },
  {
   "cell_type": "code",
   "execution_count": 62,
   "id": "1a5b77d4-bf49-44fe-8fd6-711c447fbb6c",
   "metadata": {},
   "outputs": [
    {
     "data": {
      "text/plain": [
       "[0, 108, 30, 6454, 18, 210, 1147, 9]"
      ]
     },
     "execution_count": 62,
     "metadata": {},
     "output_type": "execute_result"
    }
   ],
   "source": [
    "text_list = [x.item() for x in text]\n",
    "text_list"
   ]
  },
  {
   "cell_type": "code",
   "execution_count": 63,
   "id": "a3285218-1b1c-431e-ba1e-540f83d97541",
   "metadata": {},
   "outputs": [],
   "source": [
    "text = text.reshape(1, -1)  #because batch_size is 1"
   ]
  },
  {
   "cell_type": "code",
   "execution_count": 64,
   "id": "e957a88a-3e23-4ecf-84ba-fd591af2ec15",
   "metadata": {},
   "outputs": [],
   "source": [
    "text_length = torch.tensor([text.size(1)]).to(dtype=torch.int64)"
   ]
  },
  {
   "cell_type": "code",
   "execution_count": 65,
   "id": "5791e48d-dc41-41d9-88a2-583144f366f5",
   "metadata": {},
   "outputs": [
    {
     "data": {
      "text/plain": [
       "torch.Size([1, 8])"
      ]
     },
     "execution_count": 65,
     "metadata": {},
     "output_type": "execute_result"
    }
   ],
   "source": [
    "text.shape"
   ]
  },
  {
   "cell_type": "code",
   "execution_count": 66,
   "id": "c7da0143-3ff0-49e2-b1cf-240e65157ca0",
   "metadata": {},
   "outputs": [
    {
     "data": {
      "text/plain": [
       "tensor([0], device='cuda:0')"
      ]
     },
     "execution_count": 66,
     "metadata": {},
     "output_type": "execute_result"
    }
   ],
   "source": [
    "predict(text, text_length)"
   ]
  },
  {
   "cell_type": "code",
   "execution_count": null,
   "id": "7786f7af-9419-45b4-a7a4-6acfdc27f52a",
   "metadata": {},
   "outputs": [],
   "source": []
  },
  {
   "cell_type": "markdown",
   "id": "2fceecf0-121d-4a05-96af-e951c7747bf1",
   "metadata": {},
   "source": [
    "## 9.2)  Negative Positive Sentence Test"
   ]
  },
  {
   "cell_type": "markdown",
   "id": "a9325f3a-31cd-4e35-9656-24825a6f237e",
   "metadata": {
    "tags": []
   },
   "source": [
    "#### Sentence 1"
   ]
  },
  {
   "cell_type": "code",
   "execution_count": 67,
   "id": "5fd88af8-b193-45aa-8494-3925411a04fc",
   "metadata": {},
   "outputs": [],
   "source": [
    "test_str = \"The movie was not good.\"\n",
    "text = torch.tensor(text_pipeline(test_str)).to(device)"
   ]
  },
  {
   "cell_type": "code",
   "execution_count": 68,
   "id": "634a4a18-1f05-4cf8-a0fc-398611a03bf0",
   "metadata": {},
   "outputs": [
    {
     "data": {
      "text/plain": [
       "[0, 23, 108, 37, 50, 9]"
      ]
     },
     "execution_count": 68,
     "metadata": {},
     "output_type": "execute_result"
    }
   ],
   "source": [
    "text_list = [x.item() for x in text]\n",
    "text_list"
   ]
  },
  {
   "cell_type": "code",
   "execution_count": 69,
   "id": "bc785fb7-509e-4216-b068-50fb7cf8e8c2",
   "metadata": {},
   "outputs": [],
   "source": [
    "text = text.reshape(1, -1)  #because batch_size is 1"
   ]
  },
  {
   "cell_type": "code",
   "execution_count": 70,
   "id": "9e6e9339-701f-4386-8f1f-30ac3dbdd6b1",
   "metadata": {},
   "outputs": [],
   "source": [
    "text_length = torch.tensor([text.size(1)]).to(dtype=torch.int64)"
   ]
  },
  {
   "cell_type": "code",
   "execution_count": 71,
   "id": "3afc1c12-e37f-4e4d-9a59-3a4af5c20625",
   "metadata": {},
   "outputs": [
    {
     "data": {
      "text/plain": [
       "torch.Size([1, 6])"
      ]
     },
     "execution_count": 71,
     "metadata": {},
     "output_type": "execute_result"
    }
   ],
   "source": [
    "text.shape"
   ]
  },
  {
   "cell_type": "code",
   "execution_count": 72,
   "id": "d5ff7f2d-23b8-4de1-ac5c-8233318a7304",
   "metadata": {},
   "outputs": [],
   "source": [
    "def predict(text, text_length):\n",
    "    with torch.no_grad():\n",
    "        output = model(text, text_length).squeeze(1)\n",
    "        predicted = torch.max(output.data, 1)[1]\n",
    "        return predicted"
   ]
  },
  {
   "cell_type": "code",
   "execution_count": 73,
   "id": "4ca4a11b-45d5-4b2b-89da-06a5a4dcbe4f",
   "metadata": {},
   "outputs": [
    {
     "data": {
      "text/plain": [
       "tensor([0], device='cuda:0')"
      ]
     },
     "execution_count": 73,
     "metadata": {},
     "output_type": "execute_result"
    }
   ],
   "source": [
    "predict(text, text_length)"
   ]
  },
  {
   "cell_type": "markdown",
   "id": "236a9ba6-9857-486a-bee1-05f7a66474da",
   "metadata": {},
   "source": [
    "#### Sentence 2"
   ]
  },
  {
   "cell_type": "code",
   "execution_count": 74,
   "id": "15722a62-24bd-41e0-9dd1-d6c183f74c6f",
   "metadata": {},
   "outputs": [],
   "source": [
    "test_str = \"Yesterday's trips wasn't great.\"\n",
    "text = torch.tensor(text_pipeline(test_str)).to(device)"
   ]
  },
  {
   "cell_type": "code",
   "execution_count": 75,
   "id": "3ca6e087-b172-48c5-af72-1fac86de97f1",
   "metadata": {},
   "outputs": [
    {
     "data": {
      "text/plain": [
       "[0, 12, 0, 108, 30, 110, 9]"
      ]
     },
     "execution_count": 75,
     "metadata": {},
     "output_type": "execute_result"
    }
   ],
   "source": [
    "text_list = [x.item() for x in text]\n",
    "text_list"
   ]
  },
  {
   "cell_type": "code",
   "execution_count": 76,
   "id": "0fbb9928-510c-42a7-bcee-538b8d37596c",
   "metadata": {},
   "outputs": [],
   "source": [
    "text = text.reshape(1, -1)  #because batch_size is 1"
   ]
  },
  {
   "cell_type": "code",
   "execution_count": 77,
   "id": "179ada91-e072-45d1-9bee-cded98056f96",
   "metadata": {},
   "outputs": [],
   "source": [
    "text_length = torch.tensor([text.size(1)]).to(dtype=torch.int64)"
   ]
  },
  {
   "cell_type": "code",
   "execution_count": 78,
   "id": "60b7d0ce-4fc8-4b2f-b28b-09d43af5968c",
   "metadata": {},
   "outputs": [
    {
     "data": {
      "text/plain": [
       "torch.Size([1, 7])"
      ]
     },
     "execution_count": 78,
     "metadata": {},
     "output_type": "execute_result"
    }
   ],
   "source": [
    "text.shape"
   ]
  },
  {
   "cell_type": "code",
   "execution_count": 79,
   "id": "2edfe5aa-d156-4041-a165-d81401a11f65",
   "metadata": {},
   "outputs": [],
   "source": [
    "def predict(text, text_length):\n",
    "    with torch.no_grad():\n",
    "        output = model(text, text_length).squeeze(1)\n",
    "        predicted = torch.max(output.data, 1)[1]\n",
    "        return predicted"
   ]
  },
  {
   "cell_type": "code",
   "execution_count": 80,
   "id": "441d9a66-b164-4f74-ba4c-cba6c475146a",
   "metadata": {},
   "outputs": [
    {
     "data": {
      "text/plain": [
       "tensor([0], device='cuda:0')"
      ]
     },
     "execution_count": 80,
     "metadata": {},
     "output_type": "execute_result"
    }
   ],
   "source": [
    "predict(text, text_length)"
   ]
  },
  {
   "cell_type": "markdown",
   "id": "0790f6e7-4a4f-4a3f-8966-4184f0db58f0",
   "metadata": {},
   "source": [
    "# 10) Conclusion "
   ]
  },
  {
   "cell_type": "markdown",
   "id": "7a097904-0edf-49f0-9c73-11b54abe3ae1",
   "metadata": {},
   "source": [
    "Overall, the model has achieved near perfect accuracy for train and validation dataset, and quite high accurracy for test dataset. For double negation test, the model passed for the first sentence but failed for the second. This would suggest the model needs to be further improved for predicting the sentiment of double negative sentences more accurately. For negative positive sentence test, the model doesn't seem to have any problem classifying it correctly."
   ]
  },
  {
   "cell_type": "code",
   "execution_count": null,
   "id": "03634253-6dfb-41d2-b250-c78705ed427a",
   "metadata": {},
   "outputs": [],
   "source": []
  }
 ],
 "metadata": {
  "kernelspec": {
   "display_name": "Python 3 (ipykernel)",
   "language": "python",
   "name": "python3"
  },
  "language_info": {
   "codemirror_mode": {
    "name": "ipython",
    "version": 3
   },
   "file_extension": ".py",
   "mimetype": "text/x-python",
   "name": "python",
   "nbconvert_exporter": "python",
   "pygments_lexer": "ipython3",
   "version": "3.9.16"
  }
 },
 "nbformat": 4,
 "nbformat_minor": 5
}
